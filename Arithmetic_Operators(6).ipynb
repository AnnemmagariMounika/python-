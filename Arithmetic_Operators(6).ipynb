{
  "nbformat": 4,
  "nbformat_minor": 0,
  "metadata": {
    "colab": {
      "provenance": []
    },
    "kernelspec": {
      "name": "python3",
      "display_name": "Python 3"
    },
    "language_info": {
      "name": "python"
    }
  },
  "cells": [
    {
      "cell_type": "markdown",
      "source": [
        "#Arithmetic Operators"
      ],
      "metadata": {
        "id": "qpiWUcBwxYTp"
      }
    },
    {
      "cell_type": "markdown",
      "source": [
        "### Arithmetic Operators\n",
        "\n",
        "Arithmetic operators in Python are used to perform mathematical operations such as addition, subtraction, multiplication, and division.\n",
        "\n",
        "- **Addition (+)**: Adds two operands.\n",
        "- **Subtraction (-)**: Subtracts the right operand from the left operand.\n",
        "- **Multiplication (*)**: Multiplies two operands.\n",
        "- **Division (/)**: Divides the left operand by the right operand.\n",
        "- **Modulus (%)**: Returns the remainder of the division of the left operand by the right operand.\n",
        "- **Exponentiation (**)**: Raises the left operand to the power of the right operand.\n",
        "- **Floor Division (//)**: Divides the left operand by the right operand and returns the largest integer less than or equal to the result.\n",
        "\n",
        "```python\n",
        "# Arithmetic operations\n",
        "a = 10\n",
        "b = 3\n",
        "\n",
        "# Addition\n",
        "print(a + b)   # Output: 13\n",
        "\n",
        "# Subtraction\n",
        "print(a - b)   # Output: 7\n",
        "\n",
        "# Multiplication\n",
        "print(a * b)   # Output: 30\n",
        "\n",
        "# Division\n",
        "print(a / b)   # Output: 3.3333333333333335\n",
        "\n",
        "# Modulus\n",
        "print(a % b)   # Output: 1\n",
        "\n",
        "# Exponentiation\n",
        "print(a ** b)  # Output: 1000\n",
        "\n",
        "# Floor Division\n",
        "print(a // b)  # Output: 3\n",
        "```"
      ],
      "metadata": {
        "id": "uB-s59mmxcSv"
      }
    }
  ]
}