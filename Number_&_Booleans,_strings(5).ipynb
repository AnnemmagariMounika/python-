{
  "nbformat": 4,
  "nbformat_minor": 0,
  "metadata": {
    "colab": {
      "provenance": []
    },
    "kernelspec": {
      "name": "python3",
      "display_name": "Python 3"
    },
    "language_info": {
      "name": "python"
    }
  },
  "cells": [
    {
      "cell_type": "markdown",
      "source": [
        "# Number & Booleans, strings"
      ],
      "metadata": {
        "id": "H29zHHGso9uV"
      }
    },
    {
      "cell_type": "markdown",
      "source": [
        "## *Python Data Types:* Numbers, Booleans, and Strings\n",
        "\n",
        "#### Numbers\n",
        "Python supports integers, floating-point numbers, and complex numbers. These types are used for various arithmetic operations.\n",
        "\n",
        "```python\n",
        "# Integer\n",
        "num1 = 10\n",
        "\n",
        "# Floating-point\n",
        "num2 = 20.5\n",
        "\n",
        "# Complex number\n",
        "num3 = 1 + 2j\n",
        "\n",
        "print(num1, num2, num3)  # Output: 10 20.5 (1+2j)\n",
        "```\n",
        "\n",
        "#### Booleans\n",
        "Booleans represent one of two values: `True` or `False`. They are commonly used in conditional statements and logical operations.\n",
        "\n",
        "```python\n",
        "# Boolean values\n",
        "is_data_scientist = True\n",
        "is_student = False\n",
        "\n",
        "print(is_data_scientist)  # Output: True\n",
        "print(is_student)         # Output: False\n",
        "```\n",
        "\n",
        "#### Strings\n",
        "Strings in Python are sequences of characters enclosed in quotes. They can be manipulated using various built-in methods.\n",
        "\n",
        "```python\n",
        "# String creation\n",
        "message = \"Best way to learn Python!\"\n",
        "\n",
        "# String methods\n",
        "print(message.upper())   # Output: BEST WAY TO LEARN PYTHON!\n",
        "print(message.lower())   # Output: best way to learn python!\n",
        "print(message.split())   # Output: ['Best', 'way', 'to', 'learn', 'Python!']\n",
        "\n",
        "```"
      ],
      "metadata": {
        "id": "NyMbWRFCo2mX"
      }
    }
  ]
}