{
  "nbformat": 4,
  "nbformat_minor": 0,
  "metadata": {
    "colab": {
      "provenance": []
    },
    "kernelspec": {
      "name": "python3",
      "display_name": "Python 3"
    },
    "language_info": {
      "name": "python"
    }
  },
  "cells": [
    {
      "cell_type": "markdown",
      "source": [
        " # Assignment Operators"
      ],
      "metadata": {
        "id": "OZTuWxdV0W1q"
      }
    },
    {
      "cell_type": "markdown",
      "source": [
        "Assignment operators in Python are used to assign values to variables. They combine the assignment operation with a mathematical operation. Here are the most commonly used assignment operators:\n",
        "\n",
        "1. **`=` (Assign)**: Assigns the value on the right to the variable on the left.\n",
        "   ```python\n",
        "   x = 5\n",
        "   print(x)  # Output: 5\n",
        "   ```\n",
        "\n",
        "2. **`+=` (Add and assign)**: Adds the value on the right to the variable on the left and assigns the result to the variable on the left.\n",
        "   ```python\n",
        "   x = 5\n",
        "   x += 3\n",
        "   print(x)  # Output: 8\n",
        "   ```\n",
        "\n",
        "3. **`-=` (Subtract and assign)**: Subtracts the value on the right from the variable on the left and assigns the result to the variable on the left.\n",
        "   ```python\n",
        "   x = 5\n",
        "   x -= 2\n",
        "   print(x)  # Output: 3\n",
        "   ```\n",
        "\n",
        "4. **`*=` (Multiply and assign)**: Multiplies the variable on the left by the value on the right and assigns the result to the variable on the left.\n",
        "   ```python\n",
        "   x = 5\n",
        "   x *= 2\n",
        "   print(x)  # Output: 10\n",
        "   ```\n",
        "\n",
        "5. **`/=` (Divide and assign)**: Divides the variable on the left by the value on the right and assigns the result to the variable on the left.\n",
        "   ```python\n",
        "   x = 10\n",
        "   x /= 2\n",
        "   print(x)  # Output: 5.0\n",
        "   ```\n",
        "\n",
        "6. **`%=` (Modulus and assign)**: Takes the modulus of the variable on the left by the value on the right and assigns the result to the variable on the left.\n",
        "   ```python\n",
        "   x = 10\n",
        "   x %= 3\n",
        "   print(x)  # Output: 1\n",
        "   ```\n",
        "\n",
        "7. **`//=` (Floor divide and assign)**: Divides the variable on the left by the value on the right, performs floor division, and assigns the result to the variable on the left.\n",
        "   ```python\n",
        "   x = 10\n",
        "   x //= 3\n",
        "   print(x)  # Output: 3\n",
        "   ```\n",
        "\n",
        "8. **`**=` (Exponentiate and assign)**: Raises the variable on the left to the power of the value on the right and assigns the result to the variable on the left.\n",
        "   ```python\n",
        "   x = 2\n",
        "   x **= 3\n",
        "   print(x)  # Output: 8\n",
        "   ```\n",
        "\n",
        "9. **`&=` (Bitwise AND and assign)**: Performs a bitwise AND operation between the variable on the left and the value on the right and assigns the result to the variable on the left.\n",
        "   ```python\n",
        "   x = 5  # 0101 in binary\n",
        "   x &= 3  # 0011 in binary\n",
        "   print(x)  # Output: 1 (0001 in binary)\n",
        "   ```\n",
        "\n",
        "10. **`|=` (Bitwise OR and assign)**: Performs a bitwise OR operation between the variable on the left and the value on the right and assigns the result to the variable on the left.\n",
        "    ```python\n",
        "    x = 5  # 0101 in binary\n",
        "    x |= 3  # 0011 in binary\n",
        "    print(x)  # Output: 7 (0111 in binary)\n",
        "    ```\n",
        "\n",
        "11. **`^=` (Bitwise XOR and assign)**: Performs a bitwise XOR operation between the variable on the left and the value on the right and assigns the result to the variable on the left.\n",
        "    ```python\n",
        "    x = 5  # 0101 in binary\n",
        "    x ^= 3  # 0011 in binary\n",
        "    print(x)  # Output: 6 (0110 in binary)\n",
        "    ```\n",
        "\n",
        "12. **`<<=` (Bitwise left shift and assign)**: Performs a bitwise left shift on the variable on the left by the number of positions specified by the value on the right and assigns the result to the variable on the left.\n",
        "    ```python\n",
        "    x = 5  # 0101 in binary\n",
        "    x <<= 2\n",
        "    print(x)  # Output: 20 (10100 in binary)\n",
        "    ```\n",
        "\n",
        "13. **`>>=` (Bitwise right shift and assign)**: Performs a bitwise right shift on the variable on the left by the number of positions specified by the value on the right and assigns the result to the variable on the left.\n",
        "    ```python\n",
        "    x = 20  # 10100 in binary\n",
        "    x >>= 2\n",
        "    print(x)  # Output: 5 (0101 in binary)\n",
        "    ```\n",
        "\n",
        "These operators help simplify code by combining assignment with arithmetic or bitwise operations."
      ],
      "metadata": {
        "id": "Y9CTxBS40fgc"
      }
    }
  ]
}