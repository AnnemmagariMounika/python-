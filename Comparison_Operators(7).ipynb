{
  "nbformat": 4,
  "nbformat_minor": 0,
  "metadata": {
    "colab": {
      "provenance": []
    },
    "kernelspec": {
      "name": "python3",
      "display_name": "Python 3"
    },
    "language_info": {
      "name": "python"
    }
  },
  "cells": [
    {
      "cell_type": "markdown",
      "source": [
        "#Comparison Operators"
      ],
      "metadata": {
        "id": "uUhqH01VyErg"
      }
    },
    {
      "cell_type": "markdown",
      "source": [
        "Comparison operators are used to compare two values and determine the relationship between them. Here’s a quick rundown of the common comparison operators in Python:\n",
        "\n",
        "1. **Equal to (`==`)**: Checks if two values are equal.\n",
        "   ```python\n",
        "   x = 5\n",
        "   y = 5\n",
        "   print(x == y)  # Output: True\n",
        "   ```\n",
        "\n",
        "2. **Not equal to (`!=`)**: Checks if two values are not equal.\n",
        "   ```python\n",
        "   x = 5\n",
        "   y = 3\n",
        "   print(x != y)  # Output: True\n",
        "   ```\n",
        "\n",
        "3. **Greater than (`>`)**: Checks if the value on the left is greater than the value on the right.\n",
        "   ```python\n",
        "   x = 7\n",
        "   y = 3\n",
        "   print(x > y)   # Output: True\n",
        "   ```\n",
        "\n",
        "4. **Less than (`<`)**: Checks if the value on the left is less than the value on the right.\n",
        "   ```python\n",
        "   x = 2\n",
        "   y = 5\n",
        "   print(x < y)   # Output: True\n",
        "   ```\n",
        "\n",
        "5. **Greater than or equal to (`>=`)**: Checks if the value on the left is greater than or equal to the value on the right.\n",
        "   ```python\n",
        "   x = 7\n",
        "   y = 7\n",
        "   print(x >= y)  # Output: True\n",
        "   ```\n",
        "\n",
        "6. **Less than or equal to (`<=`)**: Checks if the value on the left is less than or equal to the value on the right.\n",
        "   ```python\n",
        "   x = 4\n",
        "   y = 6\n",
        "   print(x <= y)  # Output: True\n",
        "   ```\n",
        "\n",
        "These operators are fundamental in decision-making and control flow in programming. If you have any specific questions or need more detailed examples, feel free to ask!"
      ],
      "metadata": {
        "id": "sYaQwPjgyHcU"
      }
    }
  ]
}